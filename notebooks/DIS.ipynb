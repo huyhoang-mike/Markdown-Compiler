{
 "cells": [
  {
   "cell_type": "code",
   "execution_count": 12,
   "metadata": {},
   "outputs": [],
   "source": [
    "import pandas as pd\n",
    "from bing_image_downloader import downloader\n",
    "import os\n",
    "df = pd.read_csv('df_django_final.csv')"
   ]
  },
  {
   "cell_type": "code",
   "execution_count": 10,
   "metadata": {},
   "outputs": [
    {
     "data": {
      "text/plain": [
       "count     458\n",
       "unique     80\n",
       "top       Bar\n",
       "freq       96\n",
       "Name: subCategory, dtype: object"
      ]
     },
     "execution_count": 10,
     "metadata": {},
     "output_type": "execute_result"
    }
   ],
   "source": [
    "df['subCategory'].describe()"
   ]
  },
  {
   "cell_type": "code",
   "execution_count": 5,
   "metadata": {},
   "outputs": [
    {
     "data": {
      "text/plain": [
       "array(['Hotel Bar', 'Hotel', 'Bar', 'Wine Bar', 'Music Venue', 'Pub',\n",
       "       'Cocktail Bar', 'Sports Bar', 'Nightclub', 'Rock Club', 'Lounge',\n",
       "       'Church', 'Lake', 'Cemetery', 'Plaza', 'Park', 'Event Space',\n",
       "       'Temple', 'Mosque', 'Historic Site', 'Garden', 'Bridge', 'Museum',\n",
       "       'Zoo', 'Spiritual Center', 'Art Museum', 'Harbor / Marina',\n",
       "       'Racetrack', 'Art Gallery', 'Synagogue', 'Island',\n",
       "       'History Museum', 'Theater', 'Comedy Club', 'Concert Hall',\n",
       "       'Strip Club', 'Multiplex', 'Arts & Entertainment',\n",
       "       'General Entertainment', 'Soccer Field', 'Pool', 'Theme Park',\n",
       "       'Gym Pool', 'Movie Theater', 'Stadium', 'Gay Bar',\n",
       "       'Other Great Outdoors', 'Beer Garden', 'Neighborhood',\n",
       "       'Radio Station', 'Office', 'Performing Arts Venue',\n",
       "       'Indie Movie Theater', 'Public Art', 'Planetarium', 'Farm',\n",
       "       'Auditorium', 'Tennis', 'Athletics & Sports', 'Brewery',\n",
       "       'Scenic Lookout', 'River', 'Opera House', 'Italian Restaurant',\n",
       "       'Dance Studio', 'Soccer Stadium', 'Cafe', 'Tennis Court',\n",
       "       'Vineyard', 'Hostel', 'Golf Course', 'Playground', 'Internet Cafe',\n",
       "       'Track Stadium', 'Basketball Court', 'Other Nightlife',\n",
       "       'Miscellaneous Shop', 'Pizza Place', 'French Restaurant', 'Trail'],\n",
       "      dtype=object)"
      ]
     },
     "execution_count": 5,
     "metadata": {},
     "output_type": "execute_result"
    }
   ],
   "source": [
    "df.subCategory.unique()"
   ]
  },
  {
   "cell_type": "code",
   "execution_count": 15,
   "metadata": {},
   "outputs": [],
   "source": [
    "arr = ['Harbor',\n",
    "       'Racetrack', 'Art Gallery', 'Synagogue', 'Island',\n",
    "       'History Museum', 'Theater', 'Comedy Club', 'Concert Hall',\n",
    "       'Strip Club', 'Multiplex', 'Arts & Entertainment',\n",
    "       'General Entertainment', 'Soccer Field', 'Pool', 'Theme Park',\n",
    "       'Gym Pool', 'Movie Theater', 'Stadium', 'Gay Bar',\n",
    "       'Other Great Outdoors', 'Beer Garden', 'Neighborhood',\n",
    "       'Radio Station', 'Office', 'Performing Arts Venue',\n",
    "       'Indie Movie Theater', 'Public Art', 'Planetarium', 'Farm',\n",
    "       'Auditorium', 'Tennis', 'Athletics & Sports', 'Brewery',\n",
    "       'Scenic Lookout', 'River', 'Opera House', 'Italian Restaurant',\n",
    "       'Dance Studio', 'Soccer Stadium', 'Cafe', 'Tennis Court',\n",
    "       'Vineyard', 'Hostel', 'Golf Course', 'Playground', 'Internet Cafe',\n",
    "       'Track Stadium', 'Basketball Court', 'Other Nightlife',\n",
    "       'Miscellaneous Shop', 'Pizza Place', 'French Restaurant', 'Trail']"
   ]
  },
  {
   "cell_type": "code",
   "execution_count": null,
   "metadata": {},
   "outputs": [],
   "source": [
    "i = 0 \n",
    "for each in arr:\n",
    "    paris = ' in Paris'\n",
    "    name = each + paris\n",
    "    downloader.download(name, limit=20, output_dir=os.path.join('.', 'paris'))\n"
   ]
  },
  {
   "cell_type": "code",
   "execution_count": 24,
   "metadata": {},
   "outputs": [
    {
     "name": "stdout",
     "output_type": "stream",
     "text": [
      "[%] Downloading Images to c:\\DISK (D)\\HCMUT\\OTH\\PYTHON\\Projects\\ImageSearch\\notebooks\\paris\\track stadium in paris\n",
      "\n",
      "\n",
      "[!!]Indexing page: 1\n",
      "\n",
      "[%] Indexed 20 Images on Page 1.\n",
      "\n",
      "===============================================\n",
      "\n",
      "[%] Downloading Image #1 from https://medias.paris2024.org/uploads/2021/07/03P-Paris2024-STA-Stade-Olympique-2-min-scaled.jpg\n",
      "[%] File Downloaded !\n",
      "\n",
      "[%] Downloading Image #2 from https://i.pinimg.com/originals/54/33/1e/54331e296ba5e7920843bfa4f384662e.jpg\n",
      "[%] File Downloaded !\n",
      "\n",
      "[%] Downloading Image #3 from http://prod-upp-image-read.ft.com/e94e3818-0e58-11e7-a88c-50ba212dce4d\n",
      "[%] File Downloaded !\n",
      "\n",
      "[%] Downloading Image #4 from https://c1.staticflickr.com/9/8343/28525690712_032ee5c9b3_k.jpg\n",
      "[%] File Downloaded !\n",
      "\n",
      "[%] Downloading Image #5 from http://www.motoheadmag.com/wp-content/uploads/2017/10/SX17_CAM4-RED.jpg\n",
      "[%] File Downloaded !\n",
      "\n",
      "[%] Downloading Image #6 from https://architectureofthegames.net/wp-content/uploads/2017/03/Paris-2024-visualization.jpg\n",
      "[%] File Downloaded !\n",
      "\n",
      "[%] Downloading Image #7 from http://img709.imageshack.us/img709/1678/paris205jpgcopie.jpg\n",
      "[%] File Downloaded !\n",
      "\n",
      "[%] Downloading Image #8 from http://footballtripper.com/wp-content/uploads/2015/06/stade-sebastien-charlety.jpg\n",
      "[%] File Downloaded !\n",
      "\n",
      "[%] Downloading Image #9 from https://sportetsociete.files.wordpress.com/2017/05/piste-seine.jpg\n",
      "[%] File Downloaded !\n",
      "\n",
      "[%] Downloading Image #10 from https://www.trackandfield.co.uk/wp-content/uploads/2019/08/charlety.jpg\n",
      "[%] File Downloaded !\n",
      "\n",
      "[%] Downloading Image #11 from https://cdn.dmcl.biz/media/image/236619/o/Paris+2024+-+Stade+de+France+-+April+1.jpg\n",
      "[%] File Downloaded !\n",
      "\n",
      "[%] Downloading Image #12 from http://stadiumdb.com/img/news/2020/12/22par2.jpg\n",
      "[%] File Downloaded !\n",
      "\n",
      "[%] Downloading Image #13 from https://sport-wiki.org/wp-content/themes/sportwiki/img/legkaya-atletika-stadion.jpg\n",
      "[%] File Downloaded !\n",
      "\n",
      "[%] Downloading Image #14 from https://adreamadeblog.files.wordpress.com/2021/08/paris-stadium.webp?w=1180&amp;h=435&amp;crop=1\n",
      "[!] Issue getting: https://adreamadeblog.files.wordpress.com/2021/08/paris-stadium.webp?w=1180&amp;h=435&amp;crop=1\n",
      "[!] Error:: HTTP Error 403: Forbidden\n",
      "[%] Downloading Image #14 from https://thumbs.dreamstime.com/b/stade-de-france-running-track-stadium-paris-60377445.jpg\n",
      "[%] File Downloaded !\n",
      "\n",
      "[%] Downloading Image #15 from https://i.pinimg.com/originals/e0/12/a5/e012a50ee0713a33c794952a9bc657df.jpg\n",
      "[%] File Downloaded !\n",
      "\n",
      "[%] Downloading Image #16 from https://images.indianexpress.com/2016/08/track-and-field-m.jpg?w=759\n",
      "[%] File Downloaded !\n",
      "\n",
      "[%] Downloading Image #17 from http://newsimg.bbc.co.uk/media/images/41221000/jpg/_41221465_paris_afp245.jpg\n",
      "[%] File Downloaded !\n",
      "\n",
      "[%] Downloading Image #18 from https://thumbs.dreamstime.com/z/stade-de-france-running-track-stadium-paris-60377462.jpg\n",
      "[%] File Downloaded !\n",
      "\n",
      "[%] Downloading Image #19 from https://cdn.cnn.com/cnnnext/dam/assets/180925162030-paris-cycling-track-full-169.jpg\n",
      "[%] File Downloaded !\n",
      "\n",
      "\n",
      "\n",
      "[!!]Indexing page: 2\n",
      "\n",
      "[%] Indexed 35 Images on Page 2.\n",
      "\n",
      "===============================================\n",
      "\n",
      "[%] Downloading Image #20 from https://c2.staticflickr.com/4/3221/3064823887_c904083dfd_z.jpg?zz=1\n",
      "[%] File Downloaded !\n",
      "\n",
      "\n",
      "\n",
      "[%] Done. Downloaded 20 images.\n"
     ]
    }
   ],
   "source": [
    "downloader.download('track stadium in paris', limit=20, output_dir=os.path.join('.', 'paris'))"
   ]
  }
 ],
 "metadata": {
  "kernelspec": {
   "display_name": "Python 3",
   "language": "python",
   "name": "python3"
  },
  "language_info": {
   "codemirror_mode": {
    "name": "ipython",
    "version": 3
   },
   "file_extension": ".py",
   "mimetype": "text/x-python",
   "name": "python",
   "nbconvert_exporter": "python",
   "pygments_lexer": "ipython3",
   "version": "3.11.5"
  }
 },
 "nbformat": 4,
 "nbformat_minor": 2
}
