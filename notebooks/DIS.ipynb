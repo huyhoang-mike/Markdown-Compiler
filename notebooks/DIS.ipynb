{
 "cells": [
  {
   "cell_type": "code",
   "execution_count": null,
   "metadata": {},
   "outputs": [],
   "source": [
    "from DeepImageSearch import Load_Data, Search_Setup\n",
    "# Load images from a folder\n",
    "image_list = Load_Data().from_folder(['images'])\n",
    "# Set up the search engine, You can load 'vit_base_patch16_224_in21k', 'resnet50' etc more then 500+ models \n",
    "st = Search_Setup(image_list=image_list, model_name='vgg19', pretrained=True, image_count=100)\n",
    "# Index the images\n",
    "st.run_index()\n",
    "# Get metadata\n",
    "metadata = st.get_image_metadata_file()\n",
    "# Plot similar images\n",
    "st.plot_similar_images(image_path='images/Experimental Cocktail Club/Image_4.jpg', number_of_images=1)"
   ]
  }
 ],
 "metadata": {
  "language_info": {
   "name": "python"
  }
 },
 "nbformat": 4,
 "nbformat_minor": 2
}
